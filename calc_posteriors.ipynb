{
 "cells": [
  {
   "cell_type": "code",
   "execution_count": 3,
   "metadata": {},
   "outputs": [],
   "source": [
    "import numpy as np\n",
    "import matplotlib.pyplot as plt\n",
    "from scipy import stats\n",
    "import pandas as pd\n",
    "from scipy import integrate\n",
    "import os"
   ]
  },
  {
   "cell_type": "code",
   "execution_count": 4,
   "metadata": {},
   "outputs": [],
   "source": [
    "us_confirmed = pd.read_csv('/Users/kulkarniad/corona/COVID-19/csse_covid_19_data/csse_covid_19_time_series/time_series_covid19_confirmed_US.csv')\n",
    "us_deaths = pd.read_csv('/Users/kulkarniad/corona/COVID-19/csse_covid_19_data/csse_covid_19_time_series/time_series_covid19_deaths_US.csv')\n",
    "\n",
    "\n",
    "all_states = np.unique(us_confirmed.Province_State.values)\n",
    "all_states = np.delete(all_states, np.argwhere(all_states == 'American Samoa'))\n",
    "all_states = np.delete(all_states, np.argwhere(all_states == 'Diamond Princess'))\n",
    "all_states = np.delete(all_states, np.argwhere(all_states == 'District of Columbia'))\n",
    "all_states = np.delete(all_states, np.argwhere(all_states == 'Grand Princess'))\n",
    "all_states = np.delete(all_states, np.argwhere(all_states == 'Guam'))\n",
    "all_states = np.delete(all_states, np.argwhere(all_states == 'Northern Mariana Islands'))\n",
    "all_states = np.delete(all_states, np.argwhere(all_states == 'Puerto Rico'))\n",
    "all_states = np.delete(all_states, np.argwhere(all_states == 'Virgin Islands'))\n"
   ]
  },
  {
   "cell_type": "code",
   "execution_count": 12,
   "metadata": {},
   "outputs": [],
   "source": [
    "def raw_data(state):\n",
    "    df = us_confirmed[us_confirmed['Province_State'] == state]\n",
    "    confirmed = df.sum(axis=0)\n",
    "    confirmed = confirmed[11:] # skip metadata\n",
    "    confirmed = pd.DataFrame(confirmed,columns=['confirmed'])\n",
    "    \n",
    "    df = us_deaths[us_deaths['Province_State'] == state]\n",
    "    deaths = df.sum(axis=0)\n",
    "    deaths = deaths[12:] # skip metadata\n",
    "    deaths = pd.DataFrame(deaths,columns=['deaths'])\n",
    "    \n",
    "    df = pd.concat([confirmed,deaths], axis=1)\n",
    "    \n",
    "    \n",
    "    df = df[(df.T != 0).any()] # start at the first confirmed case\n",
    "    return df\n",
    "\n",
    "def smooth_data(state,window = 14):\n",
    "    df = raw_data(state)\n",
    "    \n",
    "    df.confirmed = df.confirmed.diff()\n",
    "    df.deaths = df.deaths.diff()\n",
    "    \n",
    "    \n",
    "    df = df.rolling(window=window,center=True,min_periods=window//2, win_type='gaussian').mean(std=window) # rolling mean window to smoothen out data\n",
    "    df = df[window:].round()\n",
    "    df = df.clip(lower = 1)\n",
    "    return df"
   ]
  },
  {
   "cell_type": "code",
   "execution_count": 13,
   "metadata": {},
   "outputs": [
    {
     "data": {
      "text/plain": [
       "<matplotlib.legend.Legend at 0x1a2074e7b8>"
      ]
     },
     "execution_count": 13,
     "metadata": {},
     "output_type": "execute_result"
    },
    {
     "data": {
      "image/png": "[encoded data removed]",
      "text/plain": [
       "<Figure size 432x288 with 1 Axes>"
      ]
     },
     "metadata": {
      "needs_background": "light"
     },
     "output_type": "display_data"
    }
   ],
   "source": [
    "state_name = 'Arizona'\n",
    "smoothing_window = 14\n",
    "state = smooth_data(state_name,window=smoothing_window) # smoothened data with mean filter of 7 day\n",
    "raw = raw_data(state_name)[smoothing_window:] # raw daily case and death counts \n",
    "plt.plot(np.arange(len(raw)),raw.confirmed.diff(), 'ro',markersize = 3,label = 'daily new cases')\n",
    "plt.plot(np.arange(len(state)),state.confirmed,label = 'smooth daily new cases')\n",
    "plt.xlabel('Days',fontsize = 13)\n",
    "plt.ylabel('Confirmed cases',fontsize = 13)\n",
    "plt.legend()"
   ]
  },
  {
   "cell_type": "code",
   "execution_count": 14,
   "metadata": {},
   "outputs": [
    {
     "data": {
      "text/plain": [
       "True"
      ]
     },
     "execution_count": 14,
     "metadata": {},
     "output_type": "execute_result"
    }
   ],
   "source": [
    "len(raw) == len(state)"
   ]
  },
  {
   "cell_type": "code",
   "execution_count": 15,
   "metadata": {},
   "outputs": [
    {
     "data": {
      "text/html": [
       "<div>\n",
       "<style scoped>\n",
       "    .dataframe tbody tr th:only-of-type {\n",
       "        vertical-align: middle;\n",
       "    }\n",
       "\n",
       "    .dataframe tbody tr th {\n",
       "        vertical-align: top;\n",
       "    }\n",
       "\n",
       "    .dataframe thead th {\n",
       "        text-align: right;\n",
       "    }\n",
       "</style>\n",
       "<table border=\"1\" class=\"dataframe\">\n",
       "  <thead>\n",
       "    <tr style=\"text-align: right;\">\n",
       "      <th></th>\n",
       "      <th>confirmed</th>\n",
       "      <th>deaths</th>\n",
       "    </tr>\n",
       "  </thead>\n",
       "  <tbody>\n",
       "    <tr>\n",
       "      <th>3/17/20</th>\n",
       "      <td>54.0</td>\n",
       "      <td>2.0</td>\n",
       "    </tr>\n",
       "    <tr>\n",
       "      <th>3/18/20</th>\n",
       "      <td>71.0</td>\n",
       "      <td>2.0</td>\n",
       "    </tr>\n",
       "    <tr>\n",
       "      <th>3/19/20</th>\n",
       "      <td>87.0</td>\n",
       "      <td>3.0</td>\n",
       "    </tr>\n",
       "    <tr>\n",
       "      <th>3/20/20</th>\n",
       "      <td>106.0</td>\n",
       "      <td>3.0</td>\n",
       "    </tr>\n",
       "    <tr>\n",
       "      <th>3/21/20</th>\n",
       "      <td>138.0</td>\n",
       "      <td>4.0</td>\n",
       "    </tr>\n",
       "    <tr>\n",
       "      <th>...</th>\n",
       "      <td>...</td>\n",
       "      <td>...</td>\n",
       "    </tr>\n",
       "    <tr>\n",
       "      <th>6/6/20</th>\n",
       "      <td>676.0</td>\n",
       "      <td>28.0</td>\n",
       "    </tr>\n",
       "    <tr>\n",
       "      <th>6/7/20</th>\n",
       "      <td>695.0</td>\n",
       "      <td>29.0</td>\n",
       "    </tr>\n",
       "    <tr>\n",
       "      <th>6/8/20</th>\n",
       "      <td>692.0</td>\n",
       "      <td>28.0</td>\n",
       "    </tr>\n",
       "    <tr>\n",
       "      <th>6/9/20</th>\n",
       "      <td>678.0</td>\n",
       "      <td>26.0</td>\n",
       "    </tr>\n",
       "    <tr>\n",
       "      <th>6/10/20</th>\n",
       "      <td>720.0</td>\n",
       "      <td>29.0</td>\n",
       "    </tr>\n",
       "  </tbody>\n",
       "</table>\n",
       "<p>86 rows × 2 columns</p>\n",
       "</div>"
      ],
      "text/plain": [
       "         confirmed  deaths\n",
       "3/17/20       54.0     2.0\n",
       "3/18/20       71.0     2.0\n",
       "3/19/20       87.0     3.0\n",
       "3/20/20      106.0     3.0\n",
       "3/21/20      138.0     4.0\n",
       "...            ...     ...\n",
       "6/6/20       676.0    28.0\n",
       "6/7/20       695.0    29.0\n",
       "6/8/20       692.0    28.0\n",
       "6/9/20       678.0    26.0\n",
       "6/10/20      720.0    29.0\n",
       "\n",
       "[86 rows x 2 columns]"
      ]
     },
     "execution_count": 15,
     "metadata": {},
     "output_type": "execute_result"
    }
   ],
   "source": [
    "smooth_data('Georgia')"
   ]
  },
  {
   "cell_type": "code",
   "execution_count": 16,
   "metadata": {},
   "outputs": [],
   "source": [
    "# draw gamma from the appropriate log-normal distribution\n",
    "def draw_gamma():\n",
    "    s, loc, scale = 0.25,0,7\n",
    "    gamma = stats.lognorm.rvs(s,loc,scale)\n",
    "    return 1/gamma\n",
    "    \n",
    "def newcases(yesterday_cases,gamma,R):\n",
    "    out = yesterday_cases\n",
    "    out *= np.e**(gamma*(R-1))\n",
    "    return out\n",
    "\n",
    "# compute likelihood -> poisson\n",
    "def r0_lhood(r0,gamma,yest_nc,today_nc,tol = 1e-6):\n",
    "    prediction = newcases(yest_nc,gamma,r0)\n",
    "    lhood = stats.poisson.logpmf(today_nc,prediction + tol)\n",
    "    return lhood\n",
    "\n",
    "\n",
    "def bayes_update(confirmed_vals,gamma,sigma=0.2):\n",
    "    # Compute likelihoods\n",
    "    likehoods = []\n",
    "    for i in range(len(confirmed_vals)-1):\n",
    "        yesterday = confirmed_vals[i]\n",
    "        today = confirmed_vals[i+1]\n",
    "        pmf = np.e**r0_lhood(r0_grid,gamma,yesterday,today)\n",
    "        pmf /= np.sum(pmf)\n",
    "        likehoods.append(pmf)\n",
    "    likehoods = np.array(likehoods)\n",
    "    \n",
    "    \n",
    "    # Process matrix add random perturbations the priors\n",
    "\n",
    "    process_matrix = stats.norm(loc=r0_grid,scale=sigma).pdf(r0_grid[:, None]) \n",
    "\n",
    "   \n",
    "    posteriors = []\n",
    "    prior = np.ones(len(r0_grid))/len(r0_grid)\n",
    "\n",
    "    for i in range(len(confirmed_vals) - 1):\n",
    "        posterior = likehoods[i] * prior\n",
    "        posterior /= np.sum(posterior)\n",
    "        posteriors.append(posterior)   \n",
    "        prior = process_matrix @ posterior\n",
    "\n",
    "    posteriors = np.array(posteriors)\n",
    "    \n",
    "    return likehoods,posteriors\n"
   ]
  },
  {
   "cell_type": "code",
   "execution_count": 17,
   "metadata": {},
   "outputs": [],
   "source": [
    "#define r0 grid\n",
    "r0_grid = np.linspace(0,5,num=1000)\n",
    "\n",
    "\n",
    "#define distribution for gamma\n",
    "s, loc, scale = 0.25,0,7\n",
    "gamma = stats.lognorm.rvs(s,loc,scale,size=10000)\n",
    "gamma = 1/gamma\n",
    "\n",
    "#smoothing window\n",
    "smoothing_window = 14"
   ]
  },
  {
   "cell_type": "code",
   "execution_count": 18,
   "metadata": {},
   "outputs": [
    {
     "name": "stdout",
     "output_type": "stream",
     "text": [
      "Alabama\n",
      "Alaska\n",
      "Arizona\n",
      "Arkansas\n",
      "California\n",
      "Colorado\n",
      "Connecticut\n",
      "Delaware\n",
      "Florida\n",
      "Georgia\n",
      "Hawaii\n",
      "Idaho\n",
      "Illinois\n",
      "Indiana\n",
      "Iowa\n",
      "Kansas\n",
      "Kentucky\n",
      "Louisiana\n",
      "Maine\n",
      "Maryland\n",
      "Massachusetts\n",
      "Michigan\n",
      "Minnesota\n",
      "Mississippi\n",
      "Missouri\n",
      "Montana\n",
      "Nebraska\n",
      "Nevada\n",
      "New Hampshire\n",
      "New Jersey\n",
      "New Mexico\n",
      "New York\n",
      "North Carolina\n",
      "North Dakota\n",
      "Ohio\n",
      "Oklahoma\n",
      "Oregon\n",
      "Pennsylvania\n",
      "Rhode Island\n",
      "South Carolina\n",
      "South Dakota\n",
      "Tennessee\n",
      "Texas\n",
      "Utah\n",
      "Vermont\n",
      "Virginia\n",
      "Washington\n",
      "West Virginia\n",
      "Wisconsin\n",
      "Wyoming\n"
     ]
    }
   ],
   "source": [
    "for state_name in all_states:\n",
    "    print(state_name)\n",
    "    image_dir = 'images/'+state_name\n",
    "\n",
    "    if (not os.path.exists(image_dir)):\n",
    "        os.mkdir(image_dir)\n",
    "\n",
    "    state = smooth_data(state_name,window=smoothing_window) # smoothened data with mean filter of 7 day\n",
    "    raw = raw_data(state_name)[smoothing_window:] # raw daily case and death counts \n",
    "\n",
    "    likehoods = np.zeros((len(state) - 1,len(r0_grid)))\n",
    "    posteriors = np.zeros((len(state) - 1,len(r0_grid)))\n",
    "\n",
    "    draws = 1000\n",
    "    for _ in range(draws):\n",
    "        g = draw_gamma()\n",
    "        l, p = bayes_update(state.confirmed.values,g)\n",
    "        likehoods += l\n",
    "        posteriors += p\n",
    "\n",
    "    # Finally normlize again\n",
    "    likehoods/= draws\n",
    "    posteriors/= draws\n",
    "\n",
    "\n",
    "    #Store data as a dictionary\n",
    "    posterior_data = []\n",
    "    for i in range(len(posteriors)):\n",
    "        day = {'date':state.index[i+1],\n",
    "              'likehood':likehoods[i],\n",
    "              'posterior':posteriors[i]},\n",
    "\n",
    "        posterior_data.append(day)\n",
    "\n",
    "\n",
    "    np.save(image_dir+'/posterior_data.npy', posterior_data, allow_pickle=True)"
   ]
  },
  {
   "cell_type": "code",
   "execution_count": null,
   "metadata": {},
   "outputs": [],
   "source": []
  }
 ],
 "metadata": {
  "kernelspec": {
   "display_name": "Python 3",
   "language": "python",
   "name": "python3"
  },
  "language_info": {
   "codemirror_mode": {
    "name": "ipython",
    "version": 3
   },
   "file_extension": ".py",
   "mimetype": "text/x-python",
   "name": "python",
   "nbconvert_exporter": "python",
   "pygments_lexer": "ipython3",
   "version": "3.7.1"
  }
 },
 "nbformat": 4,
 "nbformat_minor": 4
}
