{
 "cells": [
  {
   "cell_type": "code",
   "execution_count": 1,
   "metadata": {},
   "outputs": [],
   "source": [
    "import numpy as np\n",
    "import matplotlib.pyplot as plt\n",
    "from scipy import stats\n",
    "import pandas as pd\n",
    "from scipy import integrate\n",
    "import os"
   ]
  },
  {
   "cell_type": "code",
   "execution_count": 2,
   "metadata": {},
   "outputs": [],
   "source": [
    "us_confirmed = pd.read_csv('/Users/kulkarniad/corona/COVID-19/csse_covid_19_data/csse_covid_19_time_series/time_series_covid19_confirmed_US.csv')\n",
    "us_deaths = pd.read_csv('/Users/kulkarniad/corona/COVID-19/csse_covid_19_data/csse_covid_19_time_series/time_series_covid19_deaths_US.csv')\n",
    "\n",
    "\n",
    "all_states = np.unique(us_confirmed.Province_State.values)\n",
    "all_states = np.delete(all_states, np.argwhere(all_states == 'American Samoa'))\n",
    "all_states = np.delete(all_states, np.argwhere(all_states == 'Diamond Princess'))\n",
    "all_states = np.delete(all_states, np.argwhere(all_states == 'District of Columbia'))\n",
    "all_states = np.delete(all_states, np.argwhere(all_states == 'Grand Princess'))\n",
    "all_states = np.delete(all_states, np.argwhere(all_states == 'Guam'))\n",
    "all_states = np.delete(all_states, np.argwhere(all_states == 'Northern Mariana Islands'))\n",
    "all_states = np.delete(all_states, np.argwhere(all_states == 'Puerto Rico'))\n",
    "all_states = np.delete(all_states, np.argwhere(all_states == 'Virgin Islands'))\n"
   ]
  },
  {
   "cell_type": "code",
   "execution_count": 3,
   "metadata": {},
   "outputs": [],
   "source": [
    "def raw_data(state):\n",
    "    df = us_confirmed[us_confirmed['Province_State'] == state]\n",
    "    confirmed = df.sum(axis=0)\n",
    "    confirmed = confirmed[11:] # skip metadata\n",
    "    confirmed = pd.DataFrame(confirmed,columns=['confirmed'])\n",
    "    \n",
    "    df = us_deaths[us_deaths['Province_State'] == state]\n",
    "    deaths = df.sum(axis=0)\n",
    "    deaths = deaths[12:] # skip metadata\n",
    "    deaths = pd.DataFrame(deaths,columns=['deaths'])\n",
    "    \n",
    "    df = pd.concat([confirmed,deaths], axis=1)\n",
    "    \n",
    "    \n",
    "    df = df[(df.T != 0).any()] # start at the first confirmed case\n",
    "    return df\n",
    "\n",
    "def smooth_data(state,window = 7):\n",
    "    df = raw_data(state)\n",
    "    \n",
    "    df.confirmed = df.confirmed.diff()\n",
    "    df.deaths = df.deaths.diff()\n",
    "    \n",
    "    \n",
    "    df = df.rolling(window=window,center=True,min_periods=1).mean() # rolling mean window to smoothen out data\n",
    "    df = df.round()\n",
    "    df = df.clip(lower = 1)\n",
    "    return df"
   ]
  },
  {
   "cell_type": "code",
   "execution_count": 5,
   "metadata": {},
   "outputs": [
    {
     "data": {
      "text/plain": [
       "[<matplotlib.lines.Line2D at 0x10d714d30>]"
      ]
     },
     "execution_count": 5,
     "metadata": {},
     "output_type": "execute_result"
    },
    {
     "data": {
      "image/png": "[encoded data removed]",
      "text/plain": [
       "<Figure size 432x288 with 1 Axes>"
      ]
     },
     "metadata": {
      "needs_background": "light"
     },
     "output_type": "display_data"
    }
   ],
   "source": [
    "state_name = 'Arizona'\n",
    "plt.plot(np.arange(len(raw_data('Arizona'))),smooth_data('Arizona').confirmed,label = 'smooth daily new cases')\n",
    "plt.plot(np.arange(len(raw_data('Arizona'))),raw_data('Arizona').diff().confirmed,'ro')\n",
    "\n"
   ]
  },
  {
   "cell_type": "code",
   "execution_count": 6,
   "metadata": {},
   "outputs": [],
   "source": [
    "# draw gamma from the appropriate log-normal distribution\n",
    "def draw_gamma():\n",
    "    s, loc, scale = 0.25,0,7\n",
    "    gamma = stats.lognorm.rvs(s,loc,scale)\n",
    "    return 1/gamma\n",
    "    \n",
    "def newcases(yesterday_cases,gamma,R):\n",
    "    out = yesterday_cases\n",
    "    out *= np.e**(gamma*(R-1))\n",
    "    return out\n",
    "\n",
    "# compute likelihood -> poisson\n",
    "def r0_lhood(r0,gamma,yest_nc,today_nc,tol = 1e-6):\n",
    "    prediction = newcases(yest_nc,gamma,r0)\n",
    "    lhood = stats.poisson.logpmf(today_nc,prediction + tol)\n",
    "    return lhood\n",
    "\n",
    "\n",
    "def bayes_update(confirmed_vals,gamma,sigma=0.2):\n",
    "    # Compute likelihoods\n",
    "    likehoods = []\n",
    "    for i in range(len(confirmed_vals)-1):\n",
    "        yesterday = confirmed_vals[i]\n",
    "        today = confirmed_vals[i+1]\n",
    "        pmf = np.e**r0_lhood(r0_grid,gamma,yesterday,today)\n",
    "        pmf /= np.sum(pmf)\n",
    "        likehoods.append(pmf)\n",
    "    likehoods = np.array(likehoods)\n",
    "    \n",
    "    \n",
    "    # Process matrix add random perturbations the priors\n",
    "\n",
    "    process_matrix = stats.norm(loc=r0_grid,scale=sigma).pdf(r0_grid[:, None]) \n",
    "\n",
    "   \n",
    "    posteriors = []\n",
    "    prior = np.ones(len(r0_grid))/len(r0_grid)\n",
    "\n",
    "    for i in range(len(confirmed_vals) - 1):\n",
    "        posterior = likehoods[i] * prior\n",
    "        posterior /= np.sum(posterior)\n",
    "        posteriors.append(posterior)   \n",
    "        prior = process_matrix @ posterior\n",
    "\n",
    "    posteriors = np.array(posteriors)\n",
    "    \n",
    "    return likehoods,posteriors\n"
   ]
  },
  {
   "cell_type": "code",
   "execution_count": 7,
   "metadata": {},
   "outputs": [],
   "source": [
    "#define r0 grid\n",
    "r0_grid = np.linspace(0,5,num=1000)\n",
    "\n",
    "\n",
    "#define distribution for gamma\n",
    "s, loc, scale = 0.25,0,7\n",
    "gamma = stats.lognorm.rvs(s,loc,scale,size=10000)\n",
    "gamma = 1/gamma\n",
    "\n",
    "#smoothing window\n",
    "smoothing_window = 7"
   ]
  },
  {
   "cell_type": "code",
   "execution_count": null,
   "metadata": {},
   "outputs": [
    {
     "name": "stdout",
     "output_type": "stream",
     "text": [
      "Alabama\n",
      "Alaska\n",
      "Arizona\n",
      "Arkansas\n",
      "California\n",
      "Colorado\n",
      "Connecticut\n",
      "Delaware\n",
      "Florida\n",
      "Georgia\n",
      "Hawaii\n",
      "Idaho\n",
      "Illinois\n",
      "Indiana\n",
      "Iowa\n",
      "Kansas\n",
      "Kentucky\n"
     ]
    }
   ],
   "source": [
    "for state_name in all_states:\n",
    "    print(state_name)\n",
    "    image_dir = 'images/'+state_name\n",
    "\n",
    "    if (not os.path.exists(image_dir)):\n",
    "        os.mkdir(image_dir)\n",
    "\n",
    "    state = smooth_data(state_name,window=smoothing_window) # smoothened data with mean filter of 7 day\n",
    "    raw = raw_data(state_name) # raw daily case and death counts \n",
    "\n",
    "    likehoods = np.zeros((len(state) - 1,len(r0_grid)))\n",
    "    posteriors = np.zeros((len(state) - 1,len(r0_grid)))\n",
    "\n",
    "    draws = 1000\n",
    "    for _ in range(draws):\n",
    "        g = draw_gamma()\n",
    "        l, p = bayes_update(state.confirmed.values,g)\n",
    "        likehoods += l\n",
    "        posteriors += p\n",
    "\n",
    "    # Finally normlize again\n",
    "    likehoods/= draws\n",
    "    posteriors/= draws\n",
    "\n",
    "\n",
    "    #Store data as a dictionary\n",
    "    posterior_data = []\n",
    "    for i in range(len(posteriors)):\n",
    "        day = {'date':state.index[i+1],\n",
    "              'likehood':likehoods[i],\n",
    "              'posterior':posteriors[i]},\n",
    "\n",
    "        posterior_data.append(day)\n",
    "\n",
    "\n",
    "    np.save(image_dir+'/posterior_data.npy', posterior_data, allow_pickle=True)"
   ]
  },
  {
   "cell_type": "code",
   "execution_count": null,
   "metadata": {},
   "outputs": [],
   "source": []
  }
 ],
 "metadata": {
  "kernelspec": {
   "display_name": "Python 3",
   "language": "python",
   "name": "python3"
  },
  "language_info": {
   "codemirror_mode": {
    "name": "ipython",
    "version": 3
   },
   "file_extension": ".py",
   "mimetype": "text/x-python",
   "name": "python",
   "nbconvert_exporter": "python",
   "pygments_lexer": "ipython3",
   "version": "3.7.1"
  }
 },
 "nbformat": 4,
 "nbformat_minor": 4
}
