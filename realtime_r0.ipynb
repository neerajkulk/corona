{
 "cells": [
  {
   "cell_type": "code",
   "execution_count": 137,
   "metadata": {},
   "outputs": [],
   "source": [
    "import numpy as np\n",
    "import matplotlib.pyplot as plt\n",
    "from scipy import stats\n",
    "import emcee\n",
    "import pandas as pd"
   ]
  },
  {
   "cell_type": "code",
   "execution_count": 138,
   "metadata": {},
   "outputs": [],
   "source": [
    "us_confirmed = pd.read_csv('/Users/kulkarniad/corona/COVID-19/csse_covid_19_data/csse_covid_19_time_series/time_series_covid19_confirmed_US.csv')\n",
    "us_deaths = pd.read_csv('/Users/kulkarniad/corona/COVID-19/csse_covid_19_data/csse_covid_19_time_series/time_series_covid19_deaths_US.csv')"
   ]
  },
  {
   "cell_type": "code",
   "execution_count": 139,
   "metadata": {},
   "outputs": [],
   "source": [
    "def get_us_data(state):\n",
    "    df = us_confirmed[us_confirmed['Province_State'] == state]\n",
    "    confirmed = df.sum(axis=0)\n",
    "    confirmed = confirmed[11:]  # skip metadata\n",
    "    confirmed = pd.DataFrame(confirmed,columns=['confirmed'])\n",
    "    \n",
    "    df = us_deaths[us_deaths['Province_State'] == state]\n",
    "    deaths = df.sum(axis=0)\n",
    "    deaths = deaths[12:]  # skip metadata\n",
    "    deaths = pd.DataFrame(deaths,columns=['deaths'])\n",
    "    \n",
    "    df = pd.concat([confirmed,deaths], axis=1)\n",
    "    \n",
    "    df = df[(df.T != 0).any()] # start at the first confirmed case\n",
    "    return df"
   ]
  },
  {
   "cell_type": "code",
   "execution_count": 140,
   "metadata": {},
   "outputs": [],
   "source": [
    "colorado = get_us_data('Colorado')"
   ]
  },
  {
   "cell_type": "code",
   "execution_count": 141,
   "metadata": {},
   "outputs": [
    {
     "data": {
      "image/png": "[encoded data removed]",
      "text/plain": [
       "<Figure size 432x288 with 1 Axes>"
      ]
     },
     "metadata": {
      "needs_background": "light"
     },
     "output_type": "display_data"
    }
   ],
   "source": [
    "s, loc, scale = 0.25,0,7\n",
    "gamma = stats.lognorm.rvs(s,loc,scale,size=200)\n",
    "gamma = 1/gamma\n",
    "plt.hist(1/gamma,bins=30)\n",
    "plt.show()"
   ]
  },
  {
   "cell_type": "code",
   "execution_count": 142,
   "metadata": {},
   "outputs": [],
   "source": [
    "r0_grid = np.linspace(0,5,num=1000)"
   ]
  },
  {
   "cell_type": "code",
   "execution_count": 143,
   "metadata": {},
   "outputs": [],
   "source": [
    "# predict new cases given yesterday's cases,gamma,effective R\n",
    "def newcases(yesterday_cases,gamma,R):\n",
    "    out = yesterday_cases\n",
    "    out *= np.e**(gamma*(R-1))\n",
    "    return out\n",
    "\n"
   ]
  },
  {
   "cell_type": "code",
   "execution_count": 144,
   "metadata": {},
   "outputs": [],
   "source": [
    "def r0_lhood(r0,gamma,yest_nc,today_nc):\n",
    "    prediction = newcases(yest_nc,gamma,r0)\n",
    "    lhood = stats.poisson.logpmf(today_nc,prediction)\n",
    "    return lhood"
   ]
  },
  {
   "cell_type": "markdown",
   "metadata": {},
   "source": [
    "Makes sense, Now do it for colorado...."
   ]
  },
  {
   "cell_type": "code",
   "execution_count": 145,
   "metadata": {},
   "outputs": [],
   "source": [
    "def bayes_update(confirmed_vals,gamma,sigma=0.3):\n",
    "    # Compute likelihoods\n",
    "    likehoods = []\n",
    "    for i in range(len(colorado)-1):\n",
    "        yesterday = colorado.confirmed.values[i]\n",
    "        today = colorado.confirmed.values[i+1]\n",
    "        pmf = np.e**r0_lhood(r0_grid,gamma,yesterday,today)\n",
    "        pmf /= np.sum(pmf)\n",
    "        likehoods.append(pmf)\n",
    "    likehoods = np.array(likehoods)\n",
    "    \n",
    "    # Process matrix governs random perturbations to R0 over time\n",
    "    process_matrix = stats.norm(loc=r0_grid,\n",
    "                                  scale=sigma\n",
    "                                 ).pdf(r0_grid[:, None]) \n",
    "\n",
    "    # Now compute posteriors using previous posterior as new prior\n",
    "\n",
    "    posteriors = []\n",
    "    prior = np.ones(len(r0_grid))/len(r0_grid)\n",
    "\n",
    "    for i in range(len(colorado) - 1):\n",
    "        posterior = likehoods[i] * prior\n",
    "        posterior /= np.sum(posterior)\n",
    "        posteriors.append(posterior)    \n",
    "        prior = process_matrix @ posterior\n",
    "\n",
    "    posteriors = np.array(posteriors)\n",
    "    \n",
    "    return likehoods,posteriors"
   ]
  },
  {
   "cell_type": "code",
   "execution_count": 153,
   "metadata": {},
   "outputs": [],
   "source": [
    "# Now take into effects for all gammas:\n",
    "current_posterior = np.zeros(len(r0_grid))\n",
    "current_likehood = np.zeros(len(r0_grid))\n",
    "\n",
    "for g in gamma:\n",
    "    l,p = bayes_update(colorado.confirmed.values,g)\n",
    "    # only keep latest estimate of likelihood and posterior\n",
    "    current_posterior += l[-1]\n",
    "    current_posterior += p[-1]\n"
   ]
  },
  {
   "cell_type": "code",
   "execution_count": 156,
   "metadata": {},
   "outputs": [
    {
     "data": {
      "text/plain": [
       "[<matplotlib.lines.Line2D at 0x1a1cb03a20>]"
      ]
     },
     "execution_count": 156,
     "metadata": {},
     "output_type": "execute_result"
    },
    {
     "data": {
      "image/png": "[encoded data removed]",
      "text/plain": [
       "<Figure size 432x288 with 1 Axes>"
      ]
     },
     "metadata": {
      "needs_background": "light"
     },
     "output_type": "display_data"
    }
   ],
   "source": [
    "plt.plot(r0_grid,final_posterior,alpha = 0.3,color = 'black')"
   ]
  },
  {
   "cell_type": "markdown",
   "metadata": {},
   "source": [
    "Now make extrapolations"
   ]
  },
  {
   "cell_type": "code",
   "execution_count": null,
   "metadata": {},
   "outputs": [],
   "source": [
    "# predict new cases given yesterday's cases,gamma,effective R\n",
    "def newcases(yesterday_cases,gamma,R):\n",
    "    out = yesterday_cases\n",
    "    out *= np.e**(gamma*(R-1))\n",
    "    return out\n",
    "\n"
   ]
  },
  {
   "cell_type": "code",
   "execution_count": 166,
   "metadata": {},
   "outputs": [
    {
     "data": {
      "text/plain": [
       "10473"
      ]
     },
     "execution_count": 166,
     "metadata": {},
     "output_type": "execute_result"
    }
   ],
   "source": [
    "colorado.values[-1,0]"
   ]
  },
  {
   "cell_type": "code",
   "execution_count": 167,
   "metadata": {},
   "outputs": [
    {
     "data": {
      "text/plain": [
       "10276.125112387848"
      ]
     },
     "execution_count": 167,
     "metadata": {},
     "output_type": "execute_result"
    }
   ],
   "source": [
    "newcases(colorado.values[-1,0],1/stats.lognorm.rvs(s,loc,scale),0.9)"
   ]
  },
  {
   "cell_type": "code",
   "execution_count": null,
   "metadata": {},
   "outputs": [],
   "source": []
  }
 ],
 "metadata": {
  "kernelspec": {
   "display_name": "Python 3",
   "language": "python",
   "name": "python3"
  },
  "language_info": {
   "codemirror_mode": {
    "name": "ipython",
    "version": 3
   },
   "file_extension": ".py",
   "mimetype": "text/x-python",
   "name": "python",
   "nbconvert_exporter": "python",
   "pygments_lexer": "ipython3",
   "version": "3.7.1"
  }
 },
 "nbformat": 4,
 "nbformat_minor": 4
}
